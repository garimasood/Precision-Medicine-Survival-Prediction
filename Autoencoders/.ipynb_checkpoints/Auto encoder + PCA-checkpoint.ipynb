{
 "cells": [
  {
   "cell_type": "code",
   "execution_count": null,
   "metadata": {},
   "outputs": [],
   "source": [
    "import tensorflow as tf\n",
    "from tensorflow.contrib.layers import fully_connected"
   ]
  },
  {
   "cell_type": "code",
   "execution_count": 89,
   "metadata": {},
   "outputs": [],
   "source": [
    "import pandas as pd"
   ]
  },
  {
   "cell_type": "code",
   "execution_count": 90,
   "metadata": {},
   "outputs": [],
   "source": [
    "from sklearn.model_selection import train_test_split"
   ]
  },
  {
   "cell_type": "code",
   "execution_count": 91,
   "metadata": {},
   "outputs": [],
   "source": [
    "from sklearn.pipeline import make_pipeline"
   ]
  },
  {
   "cell_type": "code",
   "execution_count": 104,
   "metadata": {},
   "outputs": [],
   "source": [
    "from sklearn.preprocessing import StandardScaler"
   ]
  },
  {
   "cell_type": "code",
   "execution_count": 92,
   "metadata": {},
   "outputs": [],
   "source": [
    "merged_data = pd.read_csv(\"C:/Users/garim/Documents/Capstone/Full data/Normalized/merged_rna_mirna_cnv_clidrug.csv\")"
   ]
  },
  {
   "cell_type": "code",
   "execution_count": 93,
   "metadata": {},
   "outputs": [],
   "source": [
    "merged_data =  merged_data.set_index('participant')"
   ]
  },
  {
   "cell_type": "code",
   "execution_count": 202,
   "metadata": {},
   "outputs": [
    {
     "data": {
      "text/plain": [
       "(540, 64887)"
      ]
     },
     "execution_count": 202,
     "metadata": {},
     "output_type": "execute_result"
    }
   ],
   "source": [
    "merged_data.shape"
   ]
  },
  {
   "cell_type": "code",
   "execution_count": 95,
   "metadata": {},
   "outputs": [
    {
     "data": {
      "text/plain": [
       "Index(['Unnamed: 0', 'index_x', 'ENSG00000000003.13', 'ENSG00000000005.5',\n",
       "       'ENSG00000000419.11', 'ENSG00000000457.12', 'ENSG00000000460.15',\n",
       "       'ENSG00000000938.11', 'ENSG00000000971.14', 'ENSG00000001036.12',\n",
       "       ...\n",
       "       'Anastrozole', 'Paclitaxel', 'Docetaxel', 'Fluorouracil', 'Trastuzumab',\n",
       "       'Letrozole', 'Exemestane', 'Epirubicin', 'Carboplatin', 'Methotrexate'],\n",
       "      dtype='object', length=64887)"
      ]
     },
     "execution_count": 95,
     "metadata": {},
     "output_type": "execute_result"
    }
   ],
   "source": [
    "merged_data.columns"
   ]
  },
  {
   "cell_type": "code",
   "execution_count": 96,
   "metadata": {},
   "outputs": [],
   "source": [
    "data_mol = merged_data.iloc[:,:(merged_data.shape[1]-43)]"
   ]
  },
  {
   "cell_type": "code",
   "execution_count": 186,
   "metadata": {},
   "outputs": [],
   "source": [
    "data_clin = merged_data.iloc[:,(merged_data.shape[1]-21):]"
   ]
  },
  {
   "cell_type": "code",
   "execution_count": 183,
   "metadata": {},
   "outputs": [
    {
     "data": {
      "text/html": [
       "<div>\n",
       "<style scoped>\n",
       "    .dataframe tbody tr th:only-of-type {\n",
       "        vertical-align: middle;\n",
       "    }\n",
       "\n",
       "    .dataframe tbody tr th {\n",
       "        vertical-align: top;\n",
       "    }\n",
       "\n",
       "    .dataframe thead th {\n",
       "        text-align: right;\n",
       "    }\n",
       "</style>\n",
       "<table border=\"1\" class=\"dataframe\">\n",
       "  <thead>\n",
       "    <tr style=\"text-align: right;\">\n",
       "      <th></th>\n",
       "      <th>OS</th>\n",
       "      <th>OS.time</th>\n",
       "      <th>DSS</th>\n",
       "      <th>DSS.time</th>\n",
       "      <th>DFI</th>\n",
       "      <th>DFI.time</th>\n",
       "      <th>PFI</th>\n",
       "      <th>PFI.time</th>\n",
       "      <th>Cyclophosphamide</th>\n",
       "      <th>Doxorubicin</th>\n",
       "      <th>...</th>\n",
       "      <th>Anastrozole</th>\n",
       "      <th>Paclitaxel</th>\n",
       "      <th>Docetaxel</th>\n",
       "      <th>Fluorouracil</th>\n",
       "      <th>Trastuzumab</th>\n",
       "      <th>Letrozole</th>\n",
       "      <th>Exemestane</th>\n",
       "      <th>Epirubicin</th>\n",
       "      <th>Carboplatin</th>\n",
       "      <th>Methotrexate</th>\n",
       "    </tr>\n",
       "    <tr>\n",
       "      <th>participant</th>\n",
       "      <th></th>\n",
       "      <th></th>\n",
       "      <th></th>\n",
       "      <th></th>\n",
       "      <th></th>\n",
       "      <th></th>\n",
       "      <th></th>\n",
       "      <th></th>\n",
       "      <th></th>\n",
       "      <th></th>\n",
       "      <th></th>\n",
       "      <th></th>\n",
       "      <th></th>\n",
       "      <th></th>\n",
       "      <th></th>\n",
       "      <th></th>\n",
       "      <th></th>\n",
       "      <th></th>\n",
       "      <th></th>\n",
       "      <th></th>\n",
       "      <th></th>\n",
       "    </tr>\n",
       "  </thead>\n",
       "  <tbody>\n",
       "    <tr>\n",
       "      <th>A0HW</th>\n",
       "      <td>0</td>\n",
       "      <td>1561</td>\n",
       "      <td>0.0</td>\n",
       "      <td>1561</td>\n",
       "      <td>0.0</td>\n",
       "      <td>1561.0</td>\n",
       "      <td>0</td>\n",
       "      <td>1561</td>\n",
       "      <td>1</td>\n",
       "      <td>1</td>\n",
       "      <td>...</td>\n",
       "      <td>1</td>\n",
       "      <td>0</td>\n",
       "      <td>0</td>\n",
       "      <td>0</td>\n",
       "      <td>0</td>\n",
       "      <td>0</td>\n",
       "      <td>0</td>\n",
       "      <td>0</td>\n",
       "      <td>0</td>\n",
       "      <td>0</td>\n",
       "    </tr>\n",
       "    <tr>\n",
       "      <th>A25E</th>\n",
       "      <td>0</td>\n",
       "      <td>3204</td>\n",
       "      <td>0.0</td>\n",
       "      <td>3204</td>\n",
       "      <td>1.0</td>\n",
       "      <td>2989.0</td>\n",
       "      <td>1</td>\n",
       "      <td>2989</td>\n",
       "      <td>1</td>\n",
       "      <td>1</td>\n",
       "      <td>...</td>\n",
       "      <td>1</td>\n",
       "      <td>1</td>\n",
       "      <td>0</td>\n",
       "      <td>0</td>\n",
       "      <td>1</td>\n",
       "      <td>0</td>\n",
       "      <td>0</td>\n",
       "      <td>0</td>\n",
       "      <td>0</td>\n",
       "      <td>0</td>\n",
       "    </tr>\n",
       "    <tr>\n",
       "      <th>A2LO</th>\n",
       "      <td>0</td>\n",
       "      <td>1198</td>\n",
       "      <td>0.0</td>\n",
       "      <td>1198</td>\n",
       "      <td>0.0</td>\n",
       "      <td>1198.0</td>\n",
       "      <td>0</td>\n",
       "      <td>1198</td>\n",
       "      <td>1</td>\n",
       "      <td>1</td>\n",
       "      <td>...</td>\n",
       "      <td>1</td>\n",
       "      <td>1</td>\n",
       "      <td>0</td>\n",
       "      <td>0</td>\n",
       "      <td>0</td>\n",
       "      <td>0</td>\n",
       "      <td>0</td>\n",
       "      <td>0</td>\n",
       "      <td>0</td>\n",
       "      <td>0</td>\n",
       "    </tr>\n",
       "    <tr>\n",
       "      <th>A04Y</th>\n",
       "      <td>0</td>\n",
       "      <td>1099</td>\n",
       "      <td>0.0</td>\n",
       "      <td>1099</td>\n",
       "      <td>0.0</td>\n",
       "      <td>1099.0</td>\n",
       "      <td>0</td>\n",
       "      <td>1099</td>\n",
       "      <td>1</td>\n",
       "      <td>1</td>\n",
       "      <td>...</td>\n",
       "      <td>1</td>\n",
       "      <td>1</td>\n",
       "      <td>0</td>\n",
       "      <td>0</td>\n",
       "      <td>1</td>\n",
       "      <td>0</td>\n",
       "      <td>0</td>\n",
       "      <td>0</td>\n",
       "      <td>0</td>\n",
       "      <td>0</td>\n",
       "    </tr>\n",
       "    <tr>\n",
       "      <th>A07C</th>\n",
       "      <td>0</td>\n",
       "      <td>1034</td>\n",
       "      <td>0.0</td>\n",
       "      <td>1034</td>\n",
       "      <td>0.0</td>\n",
       "      <td>1034.0</td>\n",
       "      <td>0</td>\n",
       "      <td>1034</td>\n",
       "      <td>1</td>\n",
       "      <td>0</td>\n",
       "      <td>...</td>\n",
       "      <td>0</td>\n",
       "      <td>0</td>\n",
       "      <td>1</td>\n",
       "      <td>1</td>\n",
       "      <td>0</td>\n",
       "      <td>0</td>\n",
       "      <td>0</td>\n",
       "      <td>1</td>\n",
       "      <td>0</td>\n",
       "      <td>0</td>\n",
       "    </tr>\n",
       "  </tbody>\n",
       "</table>\n",
       "<p>5 rows × 21 columns</p>\n",
       "</div>"
      ],
      "text/plain": [
       "             OS  OS.time  DSS  DSS.time  DFI  DFI.time  PFI  PFI.time  \\\n",
       "participant                                                             \n",
       "A0HW          0     1561  0.0      1561  0.0    1561.0    0      1561   \n",
       "A25E          0     3204  0.0      3204  1.0    2989.0    1      2989   \n",
       "A2LO          0     1198  0.0      1198  0.0    1198.0    0      1198   \n",
       "A04Y          0     1099  0.0      1099  0.0    1099.0    0      1099   \n",
       "A07C          0     1034  0.0      1034  0.0    1034.0    0      1034   \n",
       "\n",
       "             Cyclophosphamide  Doxorubicin      ...       Anastrozole  \\\n",
       "participant                                     ...                     \n",
       "A0HW                        1            1      ...                 1   \n",
       "A25E                        1            1      ...                 1   \n",
       "A2LO                        1            1      ...                 1   \n",
       "A04Y                        1            1      ...                 1   \n",
       "A07C                        1            0      ...                 0   \n",
       "\n",
       "             Paclitaxel  Docetaxel  Fluorouracil  Trastuzumab  Letrozole  \\\n",
       "participant                                                                \n",
       "A0HW                  0          0             0            0          0   \n",
       "A25E                  1          0             0            1          0   \n",
       "A2LO                  1          0             0            0          0   \n",
       "A04Y                  1          0             0            1          0   \n",
       "A07C                  0          1             1            0          0   \n",
       "\n",
       "             Exemestane  Epirubicin  Carboplatin  Methotrexate  \n",
       "participant                                                     \n",
       "A0HW                  0           0            0             0  \n",
       "A25E                  0           0            0             0  \n",
       "A2LO                  0           0            0             0  \n",
       "A04Y                  0           0            0             0  \n",
       "A07C                  0           1            0             0  \n",
       "\n",
       "[5 rows x 21 columns]"
      ]
     },
     "execution_count": 183,
     "metadata": {},
     "output_type": "execute_result"
    }
   ],
   "source": [
    "data_clin.head()"
   ]
  },
  {
   "cell_type": "code",
   "execution_count": 171,
   "metadata": {},
   "outputs": [
    {
     "data": {
      "text/plain": [
       "64887"
      ]
     },
     "execution_count": 171,
     "metadata": {},
     "output_type": "execute_result"
    }
   ],
   "source": [
    "merged_data.shape[1]"
   ]
  },
  {
   "cell_type": "code",
   "execution_count": 97,
   "metadata": {},
   "outputs": [
    {
     "data": {
      "text/plain": [
       "Index(['Unnamed: 0', 'index_x', 'ENSG00000000003.13', 'ENSG00000000005.5',\n",
       "       'ENSG00000000419.11', 'ENSG00000000457.12', 'ENSG00000000460.15',\n",
       "       'ENSG00000000938.11', 'ENSG00000000971.14', 'ENSG00000001036.12',\n",
       "       ...\n",
       "       'chr22:41000001-42000000', 'chr22:42000001-43000000',\n",
       "       'chr22:43000001-44000000', 'chr22:44000001-45000000',\n",
       "       'chr22:45000001-46000000', 'chr22:46000001-47000000',\n",
       "       'chr22:47000001-48000000', 'chr22:48000001-49000000',\n",
       "       'chr22:49000001-50000000', 'chr22:50000001-50818468'],\n",
       "      dtype='object', length=64844)"
      ]
     },
     "execution_count": 97,
     "metadata": {},
     "output_type": "execute_result"
    }
   ],
   "source": [
    "data_mol.columns"
   ]
  },
  {
   "cell_type": "code",
   "execution_count": 98,
   "metadata": {},
   "outputs": [],
   "source": [
    "data_mol = data_mol.drop(['index_x', 'study_x','tssC_x','portion_analyte_x','plate_x','center_x','sampleC_x','vial_x','portion_x','analyte_x','TissueSourceSite_x','sample_x',\n",
    "                      'index_y','study_y','tssC_y','portion_analyte_y','plate_y','center_y','sampleC_y','vial_y','portion_y','analyte_y', 'sample_vialC',\n",
    "                      'TissueSourceSite_y','sample_y','Unnamed: 0','index'], axis =1)\n"
   ]
  },
  {
   "cell_type": "code",
   "execution_count": 99,
   "metadata": {},
   "outputs": [
    {
     "data": {
      "text/html": [
       "<div>\n",
       "<style scoped>\n",
       "    .dataframe tbody tr th:only-of-type {\n",
       "        vertical-align: middle;\n",
       "    }\n",
       "\n",
       "    .dataframe tbody tr th {\n",
       "        vertical-align: top;\n",
       "    }\n",
       "\n",
       "    .dataframe thead th {\n",
       "        text-align: right;\n",
       "    }\n",
       "</style>\n",
       "<table border=\"1\" class=\"dataframe\">\n",
       "  <thead>\n",
       "    <tr style=\"text-align: right;\">\n",
       "      <th></th>\n",
       "      <th>ENSG00000000003.13</th>\n",
       "      <th>ENSG00000000005.5</th>\n",
       "      <th>ENSG00000000419.11</th>\n",
       "      <th>ENSG00000000457.12</th>\n",
       "      <th>ENSG00000000460.15</th>\n",
       "      <th>ENSG00000000938.11</th>\n",
       "      <th>ENSG00000000971.14</th>\n",
       "      <th>ENSG00000001036.12</th>\n",
       "      <th>ENSG00000001084.9</th>\n",
       "      <th>ENSG00000001167.13</th>\n",
       "      <th>...</th>\n",
       "      <th>chr22:41000001-42000000</th>\n",
       "      <th>chr22:42000001-43000000</th>\n",
       "      <th>chr22:43000001-44000000</th>\n",
       "      <th>chr22:44000001-45000000</th>\n",
       "      <th>chr22:45000001-46000000</th>\n",
       "      <th>chr22:46000001-47000000</th>\n",
       "      <th>chr22:47000001-48000000</th>\n",
       "      <th>chr22:48000001-49000000</th>\n",
       "      <th>chr22:49000001-50000000</th>\n",
       "      <th>chr22:50000001-50818468</th>\n",
       "    </tr>\n",
       "    <tr>\n",
       "      <th>participant</th>\n",
       "      <th></th>\n",
       "      <th></th>\n",
       "      <th></th>\n",
       "      <th></th>\n",
       "      <th></th>\n",
       "      <th></th>\n",
       "      <th></th>\n",
       "      <th></th>\n",
       "      <th></th>\n",
       "      <th></th>\n",
       "      <th></th>\n",
       "      <th></th>\n",
       "      <th></th>\n",
       "      <th></th>\n",
       "      <th></th>\n",
       "      <th></th>\n",
       "      <th></th>\n",
       "      <th></th>\n",
       "      <th></th>\n",
       "      <th></th>\n",
       "      <th></th>\n",
       "    </tr>\n",
       "  </thead>\n",
       "  <tbody>\n",
       "    <tr>\n",
       "      <th>A0HW</th>\n",
       "      <td>4.785971</td>\n",
       "      <td>-4.432411</td>\n",
       "      <td>4.989392</td>\n",
       "      <td>4.408257</td>\n",
       "      <td>2.708656</td>\n",
       "      <td>1.071115</td>\n",
       "      <td>3.098395</td>\n",
       "      <td>5.228601</td>\n",
       "      <td>5.417747</td>\n",
       "      <td>5.796110</td>\n",
       "      <td>...</td>\n",
       "      <td>-0.433904</td>\n",
       "      <td>-0.4245</td>\n",
       "      <td>-0.4245</td>\n",
       "      <td>-0.4245</td>\n",
       "      <td>-0.4245</td>\n",
       "      <td>-0.423613</td>\n",
       "      <td>-0.427322</td>\n",
       "      <td>-0.413489</td>\n",
       "      <td>NaN</td>\n",
       "      <td>NaN</td>\n",
       "    </tr>\n",
       "    <tr>\n",
       "      <th>A25E</th>\n",
       "      <td>3.709374</td>\n",
       "      <td>-1.567043</td>\n",
       "      <td>6.496110</td>\n",
       "      <td>5.489427</td>\n",
       "      <td>4.138250</td>\n",
       "      <td>2.094500</td>\n",
       "      <td>4.953776</td>\n",
       "      <td>5.521690</td>\n",
       "      <td>5.590662</td>\n",
       "      <td>6.030657</td>\n",
       "      <td>...</td>\n",
       "      <td>-0.022800</td>\n",
       "      <td>-0.0228</td>\n",
       "      <td>-0.0228</td>\n",
       "      <td>-0.0228</td>\n",
       "      <td>-0.0228</td>\n",
       "      <td>-0.022800</td>\n",
       "      <td>-0.022800</td>\n",
       "      <td>-0.022800</td>\n",
       "      <td>NaN</td>\n",
       "      <td>NaN</td>\n",
       "    </tr>\n",
       "    <tr>\n",
       "      <th>A2LO</th>\n",
       "      <td>5.107675</td>\n",
       "      <td>-2.085746</td>\n",
       "      <td>5.280275</td>\n",
       "      <td>4.597804</td>\n",
       "      <td>3.386828</td>\n",
       "      <td>3.288413</td>\n",
       "      <td>5.401556</td>\n",
       "      <td>4.841856</td>\n",
       "      <td>4.838791</td>\n",
       "      <td>5.517267</td>\n",
       "      <td>...</td>\n",
       "      <td>0.015800</td>\n",
       "      <td>0.0158</td>\n",
       "      <td>0.0158</td>\n",
       "      <td>0.0158</td>\n",
       "      <td>0.0158</td>\n",
       "      <td>0.015800</td>\n",
       "      <td>0.015800</td>\n",
       "      <td>0.015800</td>\n",
       "      <td>NaN</td>\n",
       "      <td>NaN</td>\n",
       "    </tr>\n",
       "    <tr>\n",
       "      <th>A04Y</th>\n",
       "      <td>4.981015</td>\n",
       "      <td>-0.086252</td>\n",
       "      <td>4.882640</td>\n",
       "      <td>4.391875</td>\n",
       "      <td>2.608438</td>\n",
       "      <td>3.191764</td>\n",
       "      <td>4.485768</td>\n",
       "      <td>6.512444</td>\n",
       "      <td>5.211836</td>\n",
       "      <td>5.743069</td>\n",
       "      <td>...</td>\n",
       "      <td>-0.466000</td>\n",
       "      <td>-0.4660</td>\n",
       "      <td>-0.4660</td>\n",
       "      <td>-0.4660</td>\n",
       "      <td>-0.4660</td>\n",
       "      <td>-0.466000</td>\n",
       "      <td>-0.466000</td>\n",
       "      <td>-0.466000</td>\n",
       "      <td>NaN</td>\n",
       "      <td>NaN</td>\n",
       "    </tr>\n",
       "    <tr>\n",
       "      <th>A07C</th>\n",
       "      <td>5.852190</td>\n",
       "      <td>-3.666800</td>\n",
       "      <td>6.251345</td>\n",
       "      <td>4.644131</td>\n",
       "      <td>5.213777</td>\n",
       "      <td>2.635157</td>\n",
       "      <td>5.941345</td>\n",
       "      <td>5.523048</td>\n",
       "      <td>6.506737</td>\n",
       "      <td>7.105157</td>\n",
       "      <td>...</td>\n",
       "      <td>-0.006279</td>\n",
       "      <td>0.1983</td>\n",
       "      <td>0.1983</td>\n",
       "      <td>0.1983</td>\n",
       "      <td>0.1983</td>\n",
       "      <td>0.198300</td>\n",
       "      <td>0.198300</td>\n",
       "      <td>0.198300</td>\n",
       "      <td>NaN</td>\n",
       "      <td>NaN</td>\n",
       "    </tr>\n",
       "  </tbody>\n",
       "</table>\n",
       "<p>5 rows × 64817 columns</p>\n",
       "</div>"
      ],
      "text/plain": [
       "             ENSG00000000003.13  ENSG00000000005.5  ENSG00000000419.11  \\\n",
       "participant                                                              \n",
       "A0HW                   4.785971          -4.432411            4.989392   \n",
       "A25E                   3.709374          -1.567043            6.496110   \n",
       "A2LO                   5.107675          -2.085746            5.280275   \n",
       "A04Y                   4.981015          -0.086252            4.882640   \n",
       "A07C                   5.852190          -3.666800            6.251345   \n",
       "\n",
       "             ENSG00000000457.12  ENSG00000000460.15  ENSG00000000938.11  \\\n",
       "participant                                                               \n",
       "A0HW                   4.408257            2.708656            1.071115   \n",
       "A25E                   5.489427            4.138250            2.094500   \n",
       "A2LO                   4.597804            3.386828            3.288413   \n",
       "A04Y                   4.391875            2.608438            3.191764   \n",
       "A07C                   4.644131            5.213777            2.635157   \n",
       "\n",
       "             ENSG00000000971.14  ENSG00000001036.12  ENSG00000001084.9  \\\n",
       "participant                                                              \n",
       "A0HW                   3.098395            5.228601           5.417747   \n",
       "A25E                   4.953776            5.521690           5.590662   \n",
       "A2LO                   5.401556            4.841856           4.838791   \n",
       "A04Y                   4.485768            6.512444           5.211836   \n",
       "A07C                   5.941345            5.523048           6.506737   \n",
       "\n",
       "             ENSG00000001167.13           ...             \\\n",
       "participant                               ...              \n",
       "A0HW                   5.796110           ...              \n",
       "A25E                   6.030657           ...              \n",
       "A2LO                   5.517267           ...              \n",
       "A04Y                   5.743069           ...              \n",
       "A07C                   7.105157           ...              \n",
       "\n",
       "             chr22:41000001-42000000  chr22:42000001-43000000  \\\n",
       "participant                                                     \n",
       "A0HW                       -0.433904                  -0.4245   \n",
       "A25E                       -0.022800                  -0.0228   \n",
       "A2LO                        0.015800                   0.0158   \n",
       "A04Y                       -0.466000                  -0.4660   \n",
       "A07C                       -0.006279                   0.1983   \n",
       "\n",
       "             chr22:43000001-44000000  chr22:44000001-45000000  \\\n",
       "participant                                                     \n",
       "A0HW                         -0.4245                  -0.4245   \n",
       "A25E                         -0.0228                  -0.0228   \n",
       "A2LO                          0.0158                   0.0158   \n",
       "A04Y                         -0.4660                  -0.4660   \n",
       "A07C                          0.1983                   0.1983   \n",
       "\n",
       "             chr22:45000001-46000000  chr22:46000001-47000000  \\\n",
       "participant                                                     \n",
       "A0HW                         -0.4245                -0.423613   \n",
       "A25E                         -0.0228                -0.022800   \n",
       "A2LO                          0.0158                 0.015800   \n",
       "A04Y                         -0.4660                -0.466000   \n",
       "A07C                          0.1983                 0.198300   \n",
       "\n",
       "             chr22:47000001-48000000  chr22:48000001-49000000  \\\n",
       "participant                                                     \n",
       "A0HW                       -0.427322                -0.413489   \n",
       "A25E                       -0.022800                -0.022800   \n",
       "A2LO                        0.015800                 0.015800   \n",
       "A04Y                       -0.466000                -0.466000   \n",
       "A07C                        0.198300                 0.198300   \n",
       "\n",
       "             chr22:49000001-50000000  chr22:50000001-50818468  \n",
       "participant                                                    \n",
       "A0HW                             NaN                      NaN  \n",
       "A25E                             NaN                      NaN  \n",
       "A2LO                             NaN                      NaN  \n",
       "A04Y                             NaN                      NaN  \n",
       "A07C                             NaN                      NaN  \n",
       "\n",
       "[5 rows x 64817 columns]"
      ]
     },
     "execution_count": 99,
     "metadata": {},
     "output_type": "execute_result"
    }
   ],
   "source": [
    "data_mol.head()"
   ]
  },
  {
   "cell_type": "code",
   "execution_count": 203,
   "metadata": {},
   "outputs": [],
   "source": [
    "data_mol = pd.read_csv('C:/Users/garim/Documents/Capstone/Full data/Normalized/merged_rna_mirna_cnv_log.csv')"
   ]
  },
  {
   "cell_type": "code",
   "execution_count": 204,
   "metadata": {},
   "outputs": [],
   "source": [
    "nacount = data_mol.apply(lambda x: x.isna().sum(), axis = 0)"
   ]
  },
  {
   "cell_type": "code",
   "execution_count": 205,
   "metadata": {},
   "outputs": [
    {
     "data": {
      "text/plain": [
       "24369"
      ]
     },
     "execution_count": 205,
     "metadata": {},
     "output_type": "execute_result"
    }
   ],
   "source": [
    "nacount.sum()"
   ]
  },
  {
   "cell_type": "code",
   "execution_count": 206,
   "metadata": {},
   "outputs": [],
   "source": [
    "remcol = nacount[nacount>0].index"
   ]
  },
  {
   "cell_type": "code",
   "execution_count": 208,
   "metadata": {},
   "outputs": [],
   "source": [
    "data_mol = data_mol.drop(remcol, axis = 1)"
   ]
  },
  {
   "cell_type": "code",
   "execution_count": 209,
   "metadata": {},
   "outputs": [],
   "source": [
    "nacount2 = data_mol.apply(lambda x: x.isna().sum(), axis = 0)"
   ]
  },
  {
   "cell_type": "code",
   "execution_count": 210,
   "metadata": {},
   "outputs": [
    {
     "data": {
      "text/plain": [
       "0"
      ]
     },
     "execution_count": 210,
     "metadata": {},
     "output_type": "execute_result"
    }
   ],
   "source": [
    "nacount2.sum()"
   ]
  },
  {
   "cell_type": "code",
   "execution_count": null,
   "metadata": {},
   "outputs": [],
   "source": [
    "data_mol=data_mol.set_index('participant')"
   ]
  },
  {
   "cell_type": "code",
   "execution_count": 220,
   "metadata": {},
   "outputs": [],
   "source": [
    "train, test = train_test_split(data_mol, test_size=0.33, random_state=42)"
   ]
  },
  {
   "cell_type": "code",
   "execution_count": 221,
   "metadata": {},
   "outputs": [],
   "source": [
    "import numpy as np\n",
    "from sklearn.decomposition import PCA"
   ]
  },
  {
   "cell_type": "code",
   "execution_count": 222,
   "metadata": {},
   "outputs": [
    {
     "data": {
      "text/plain": [
       "Index(['A251', 'A0B5', 'A15C', 'A1AS', 'A0BD', 'A04J', 'A13D', 'A158', 'A12H',\n",
       "       'A0E0',\n",
       "       ...\n",
       "       'A2FG', 'AAAU', 'A24Q', 'A09E', 'A09M', 'A14W', 'A1J8', 'A3Y0', 'A1JE',\n",
       "       'A14U'],\n",
       "      dtype='object', name='participant', length=533)"
      ]
     },
     "execution_count": 222,
     "metadata": {},
     "output_type": "execute_result"
    }
   ],
   "source": [
    "data_mol.index"
   ]
  },
  {
   "cell_type": "code",
   "execution_count": 133,
   "metadata": {},
   "outputs": [],
   "source": [
    "std_pca = make_pipeline(StandardScaler(), PCA(n_components=100))\n",
    "pca_mol = std_pca.fit(train)"
   ]
  },
  {
   "cell_type": "code",
   "execution_count": 223,
   "metadata": {},
   "outputs": [],
   "source": [
    "std_pca2 = make_pipeline(PCA(n_components=100))\n",
    "pca_mol2 = std_pca2.fit(train)"
   ]
  },
  {
   "cell_type": "code",
   "execution_count": 228,
   "metadata": {},
   "outputs": [
    {
     "data": {
      "text/plain": [
       "array([0.09361876, 0.07613951, 0.04091402, 0.03794643, 0.02694355,\n",
       "       0.02282839, 0.0201218 , 0.01727451, 0.01583748, 0.0126904 ,\n",
       "       0.0117834 , 0.01067004, 0.00962914, 0.00921948, 0.00779753,\n",
       "       0.00756434, 0.00722622, 0.00701087, 0.0067973 , 0.00636478,\n",
       "       0.00609901, 0.006001  , 0.00591367, 0.00568253, 0.00540858,\n",
       "       0.00531134, 0.00523532, 0.00502567, 0.004833  , 0.00461994,\n",
       "       0.00456957, 0.00449548, 0.00444299, 0.00428476, 0.00424528,\n",
       "       0.0042044 , 0.00417078, 0.0040427 , 0.00396779, 0.00389861,\n",
       "       0.00387971, 0.00376625, 0.00374362, 0.00366947, 0.00358782,\n",
       "       0.00357474, 0.00345994, 0.0034208 , 0.00341209, 0.00330523,\n",
       "       0.00327497, 0.00324572, 0.00320607, 0.00317862, 0.00314985,\n",
       "       0.00312078, 0.00301678, 0.00299932, 0.0029543 , 0.00287094,\n",
       "       0.00283948, 0.00281997, 0.0028067 , 0.002777  , 0.00272674,\n",
       "       0.00270129, 0.00265026, 0.00263182, 0.00260931, 0.00257113,\n",
       "       0.00255139, 0.00252284, 0.00252174, 0.00249441, 0.00245807,\n",
       "       0.00242629, 0.00240489, 0.0023874 , 0.00236505, 0.00232886,\n",
       "       0.0022977 , 0.0022677 , 0.0022259 , 0.00222103, 0.00219275,\n",
       "       0.00217961, 0.00216295, 0.00212852, 0.0021178 , 0.00209996,\n",
       "       0.00206403, 0.00205206, 0.00203395, 0.00201522, 0.00200827,\n",
       "       0.00198021, 0.00194976, 0.00193068, 0.00190555, 0.00189836])"
      ]
     },
     "execution_count": 228,
     "metadata": {},
     "output_type": "execute_result"
    }
   ],
   "source": [
    "pca_mol2.named_steps['pca'].explained_variance_ratio_"
   ]
  },
  {
   "cell_type": "code",
   "execution_count": 229,
   "metadata": {},
   "outputs": [],
   "source": [
    "import numpy as np"
   ]
  },
  {
   "cell_type": "code",
   "execution_count": 250,
   "metadata": {},
   "outputs": [],
   "source": [
    "mol_PCA_train =  pca_mol2.fit_transform(train) "
   ]
  },
  {
   "cell_type": "code",
   "execution_count": 239,
   "metadata": {},
   "outputs": [],
   "source": [
    "mol_PCA_test = pca_mol2.transform(test) "
   ]
  },
  {
   "cell_type": "code",
   "execution_count": 252,
   "metadata": {},
   "outputs": [],
   "source": [
    "mol_PCA_train =  pd.DataFrame(mol_PCA_train)"
   ]
  },
  {
   "cell_type": "code",
   "execution_count": 253,
   "metadata": {},
   "outputs": [],
   "source": [
    "mol_PCA_train.index = train.index"
   ]
  },
  {
   "cell_type": "code",
   "execution_count": 254,
   "metadata": {},
   "outputs": [],
   "source": [
    "mol_PCA_train = mol_PCA_train.merge(data_clin, left_index=True, right_index=True)"
   ]
  },
  {
   "cell_type": "code",
   "execution_count": 256,
   "metadata": {},
   "outputs": [
    {
     "data": {
      "text/plain": [
       "(356, 121)"
      ]
     },
     "execution_count": 256,
     "metadata": {},
     "output_type": "execute_result"
    }
   ],
   "source": [
    "mol_PCA_train.shape"
   ]
  },
  {
   "cell_type": "code",
   "execution_count": 258,
   "metadata": {},
   "outputs": [],
   "source": [
    "mol_PCA_test =  pd.DataFrame(mol_PCA_test)"
   ]
  },
  {
   "cell_type": "code",
   "execution_count": 257,
   "metadata": {},
   "outputs": [],
   "source": [
    "mol_PCA_test.index = test.index"
   ]
  },
  {
   "cell_type": "code",
   "execution_count": 259,
   "metadata": {},
   "outputs": [],
   "source": [
    "mol_PCA_test = mol_PCA_test.merge(data_clin, left_index=True, right_index=True)"
   ]
  },
  {
   "cell_type": "code",
   "execution_count": 260,
   "metadata": {},
   "outputs": [
    {
     "data": {
      "text/plain": [
       "(176, 121)"
      ]
     },
     "execution_count": 260,
     "metadata": {},
     "output_type": "execute_result"
    }
   ],
   "source": [
    "mol_PCA_test.shape"
   ]
  },
  {
   "cell_type": "code",
   "execution_count": 261,
   "metadata": {},
   "outputs": [],
   "source": [
    "mol_PCA_train.to_csv('C:/Users/garim/Documents/Capstone/Full data/Normalized/PCA/mol_PCA_train.csv')"
   ]
  },
  {
   "cell_type": "code",
   "execution_count": 262,
   "metadata": {},
   "outputs": [],
   "source": [
    "mol_PCA_test.to_csv('C:/Users/garim/Documents/Capstone/Full data/Normalized/PCA/mol_PCA_test.csv')"
   ]
  },
  {
   "cell_type": "code",
   "execution_count": 53,
   "metadata": {},
   "outputs": [
    {
     "name": "stderr",
     "output_type": "stream",
     "text": [
      "C:\\Users\\garim\\Anaconda3\\lib\\site-packages\\h5py\\__init__.py:36: FutureWarning: Conversion of the second argument of issubdtype from `float` to `np.floating` is deprecated. In future, it will be treated as `np.float64 == np.dtype(float).type`.\n",
      "  from ._conv import register_converters as _register_converters\n",
      "Using TensorFlow backend.\n"
     ]
    }
   ],
   "source": [
    "import keras.layers\n",
    "import keras.models\n",
    "\n",
    "import numpy"
   ]
  },
  {
   "cell_type": "code",
   "execution_count": 54,
   "metadata": {},
   "outputs": [],
   "source": [
    " def sparse_mid(self, input_dim, reduc_dim, activation_function, layers_num):\n",
    "        '''\n",
    "            Autoencoder model with regularization.\n",
    "        '''\n",
    "        # ------------------------- MODEL DEFINITION ------------------------ #\n",
    "        # creating the input object for the autoencoder\n",
    "        autoencoder_input = keras.layers.Input(shape=(input_dim,))\n",
    "        # stacking the encoder layers\n",
    "        # scale the dimensionality reduction as a linspace\n",
    "        dim_progression = numpy.linspace(input_dim, reduc_dim, layers_num+1)[1:]\n",
    "        # you must keep the named reference for the first layer\n",
    "        autoencoder_part = keras.layers.Dense(int(dim_progression[0]), activation=activation_function)(autoencoder_input)\n",
    "        for size in dim_progression[1:-1]:\n",
    "            autoencoder_part = keras.layers.Dense(int(size), activation=activation_function)(autoencoder_part)\n",
    "        # MID LAYER\n",
    "        autoencoder_part = keras.layers.Dense(int(dim_progression[-1]), activation=activation_function, \\\n",
    "            activity_regularizer=keras.regularizers.l1(10e-3))(autoencoder_part)\n",
    "        # stacking the decoder layers\n",
    "        #for size in numpy.linspace(reduc_dim, input_dim, layers_num+1)[1:]:\n",
    "        #    autoencoder_part = keras.layers.Dense(int(size), activation=activation_function)(autoencoder_part)\n",
    "        # this model maps an input to its reconstruction\n",
    "        autoencoder_model = keras.models.Model(autoencoder_input, autoencoder_part)\n",
    "        # return the instanciated autoencoder model\n",
    "        return autoencoder_model"
   ]
  },
  {
   "cell_type": "code",
   "execution_count": 55,
   "metadata": {},
   "outputs": [],
   "source": [
    "test =  sparse_mid(data_mol, data_mol.shape[1], 100, 'relu', 3 )"
   ]
  },
  {
   "cell_type": "code",
   "execution_count": null,
   "metadata": {},
   "outputs": [],
   "source": [
    "encoded_data = test.predict(data_mol)"
   ]
  },
  {
   "cell_type": "code",
   "execution_count": null,
   "metadata": {},
   "outputs": [],
   "source": []
  },
  {
   "cell_type": "code",
   "execution_count": null,
   "metadata": {},
   "outputs": [],
   "source": []
  },
  {
   "cell_type": "code",
   "execution_count": null,
   "metadata": {},
   "outputs": [],
   "source": []
  },
  {
   "cell_type": "code",
   "execution_count": null,
   "metadata": {},
   "outputs": [],
   "source": []
  },
  {
   "cell_type": "code",
   "execution_count": 109,
   "metadata": {},
   "outputs": [],
   "source": [
    "n_inputs = data_mol.shape[1]\n",
    "n_hidden = 100 # 2D codings"
   ]
  },
  {
   "cell_type": "code",
   "execution_count": 110,
   "metadata": {},
   "outputs": [],
   "source": [
    "n_outputs = n_inputs"
   ]
  },
  {
   "cell_type": "code",
   "execution_count": 111,
   "metadata": {},
   "outputs": [],
   "source": [
    "learning_rate = 0.01"
   ]
  },
  {
   "cell_type": "code",
   "execution_count": 112,
   "metadata": {},
   "outputs": [],
   "source": [
    "X = tf.placeholder(tf.float32, shape=[None, n_inputs])"
   ]
  },
  {
   "cell_type": "code",
   "execution_count": 113,
   "metadata": {},
   "outputs": [],
   "source": [
    "X = tf.placeholder(tf.float32, shape=[None, n_inputs])\n",
    "hidden = fully_connected(X, n_hidden, activation_fn=None)\n",
    "outputs = fully_connected(hidden, n_outputs, activation_fn=None)"
   ]
  },
  {
   "cell_type": "code",
   "execution_count": 114,
   "metadata": {},
   "outputs": [],
   "source": [
    "reconstruction_loss = tf.reduce_mean(tf.square(outputs - X))"
   ]
  },
  {
   "cell_type": "code",
   "execution_count": 115,
   "metadata": {},
   "outputs": [],
   "source": [
    "optimizer = tf.train.AdamOptimizer(learning_rate)\n",
    "training_op = optimizer.minimize(reconstruction_loss)"
   ]
  },
  {
   "cell_type": "code",
   "execution_count": 116,
   "metadata": {},
   "outputs": [],
   "source": [
    "init = tf.global_variables_initializer()"
   ]
  },
  {
   "cell_type": "code",
   "execution_count": 117,
   "metadata": {},
   "outputs": [],
   "source": [
    "from sklearn.model_selection import train_test_split\n",
    "X_train, X_test= train_test_split(data_mol, test_size=0.3, random_state=42)"
   ]
  },
  {
   "cell_type": "code",
   "execution_count": 118,
   "metadata": {},
   "outputs": [],
   "source": [
    "n_iterations = 1000\n",
    "codings = hidden # the output of the hidden layer provides the codings"
   ]
  },
  {
   "cell_type": "code",
   "execution_count": 119,
   "metadata": {},
   "outputs": [
    {
     "ename": "KeyboardInterrupt",
     "evalue": "",
     "output_type": "error",
     "traceback": [
      "\u001b[1;31m---------------------------------------------------------------------------\u001b[0m",
      "\u001b[1;31mKeyboardInterrupt\u001b[0m                         Traceback (most recent call last)",
      "\u001b[1;32m<ipython-input-119-c909f0535615>\u001b[0m in \u001b[0;36m<module>\u001b[1;34m()\u001b[0m\n\u001b[0;32m      2\u001b[0m     \u001b[0msess\u001b[0m\u001b[1;33m.\u001b[0m\u001b[0mrun\u001b[0m\u001b[1;33m(\u001b[0m\u001b[0minit\u001b[0m\u001b[1;33m)\u001b[0m\u001b[1;33m\u001b[0m\u001b[0m\n\u001b[0;32m      3\u001b[0m     \u001b[1;32mfor\u001b[0m \u001b[0miteration\u001b[0m \u001b[1;32min\u001b[0m \u001b[0mrange\u001b[0m\u001b[1;33m(\u001b[0m\u001b[0mn_iterations\u001b[0m\u001b[1;33m)\u001b[0m\u001b[1;33m:\u001b[0m\u001b[1;33m\u001b[0m\u001b[0m\n\u001b[1;32m----> 4\u001b[1;33m         \u001b[0mtraining_op\u001b[0m\u001b[1;33m.\u001b[0m\u001b[0mrun\u001b[0m\u001b[1;33m(\u001b[0m\u001b[0mfeed_dict\u001b[0m\u001b[1;33m=\u001b[0m\u001b[1;33m{\u001b[0m\u001b[0mX\u001b[0m\u001b[1;33m:\u001b[0m \u001b[0mX_train\u001b[0m\u001b[1;33m}\u001b[0m\u001b[1;33m)\u001b[0m \u001b[1;31m# no labels (unsupervised)\u001b[0m\u001b[1;33m\u001b[0m\u001b[0m\n\u001b[0m\u001b[0;32m      5\u001b[0m         \u001b[0mcodings_val\u001b[0m \u001b[1;33m=\u001b[0m \u001b[0mcodings\u001b[0m\u001b[1;33m.\u001b[0m\u001b[0meval\u001b[0m\u001b[1;33m(\u001b[0m\u001b[0mfeed_dict\u001b[0m\u001b[1;33m=\u001b[0m\u001b[1;33m{\u001b[0m\u001b[0mX\u001b[0m\u001b[1;33m:\u001b[0m \u001b[0mX_test\u001b[0m\u001b[1;33m}\u001b[0m\u001b[1;33m)\u001b[0m\u001b[1;33m\u001b[0m\u001b[0m\n",
      "\u001b[1;32m~\\Anaconda3\\lib\\site-packages\\tensorflow\\python\\framework\\ops.py\u001b[0m in \u001b[0;36mrun\u001b[1;34m(self, feed_dict, session)\u001b[0m\n\u001b[0;32m   2375\u001b[0m         \u001b[0mnone\u001b[0m\u001b[1;33m,\u001b[0m \u001b[0mthe\u001b[0m \u001b[0mdefault\u001b[0m \u001b[0msession\u001b[0m \u001b[0mwill\u001b[0m \u001b[0mbe\u001b[0m \u001b[0mused\u001b[0m\u001b[1;33m.\u001b[0m\u001b[1;33m\u001b[0m\u001b[0m\n\u001b[0;32m   2376\u001b[0m     \"\"\"\n\u001b[1;32m-> 2377\u001b[1;33m     \u001b[0m_run_using_default_session\u001b[0m\u001b[1;33m(\u001b[0m\u001b[0mself\u001b[0m\u001b[1;33m,\u001b[0m \u001b[0mfeed_dict\u001b[0m\u001b[1;33m,\u001b[0m \u001b[0mself\u001b[0m\u001b[1;33m.\u001b[0m\u001b[0mgraph\u001b[0m\u001b[1;33m,\u001b[0m \u001b[0msession\u001b[0m\u001b[1;33m)\u001b[0m\u001b[1;33m\u001b[0m\u001b[0m\n\u001b[0m\u001b[0;32m   2378\u001b[0m \u001b[1;33m\u001b[0m\u001b[0m\n\u001b[0;32m   2379\u001b[0m \u001b[0m_gradient_registry\u001b[0m \u001b[1;33m=\u001b[0m \u001b[0mregistry\u001b[0m\u001b[1;33m.\u001b[0m\u001b[0mRegistry\u001b[0m\u001b[1;33m(\u001b[0m\u001b[1;34m\"gradient\"\u001b[0m\u001b[1;33m)\u001b[0m\u001b[1;33m\u001b[0m\u001b[0m\n",
      "\u001b[1;32m~\\Anaconda3\\lib\\site-packages\\tensorflow\\python\\framework\\ops.py\u001b[0m in \u001b[0;36m_run_using_default_session\u001b[1;34m(operation, feed_dict, graph, session)\u001b[0m\n\u001b[0;32m   5213\u001b[0m                        \u001b[1;34m\"the operation's graph is different from the session's \"\u001b[0m\u001b[1;33m\u001b[0m\u001b[0m\n\u001b[0;32m   5214\u001b[0m                        \"graph.\")\n\u001b[1;32m-> 5215\u001b[1;33m   \u001b[0msession\u001b[0m\u001b[1;33m.\u001b[0m\u001b[0mrun\u001b[0m\u001b[1;33m(\u001b[0m\u001b[0moperation\u001b[0m\u001b[1;33m,\u001b[0m \u001b[0mfeed_dict\u001b[0m\u001b[1;33m)\u001b[0m\u001b[1;33m\u001b[0m\u001b[0m\n\u001b[0m\u001b[0;32m   5216\u001b[0m \u001b[1;33m\u001b[0m\u001b[0m\n\u001b[0;32m   5217\u001b[0m \u001b[1;33m\u001b[0m\u001b[0m\n",
      "\u001b[1;32m~\\Anaconda3\\lib\\site-packages\\tensorflow\\python\\client\\session.py\u001b[0m in \u001b[0;36mrun\u001b[1;34m(self, fetches, feed_dict, options, run_metadata)\u001b[0m\n\u001b[0;32m    898\u001b[0m     \u001b[1;32mtry\u001b[0m\u001b[1;33m:\u001b[0m\u001b[1;33m\u001b[0m\u001b[0m\n\u001b[0;32m    899\u001b[0m       result = self._run(None, fetches, feed_dict, options_ptr,\n\u001b[1;32m--> 900\u001b[1;33m                          run_metadata_ptr)\n\u001b[0m\u001b[0;32m    901\u001b[0m       \u001b[1;32mif\u001b[0m \u001b[0mrun_metadata\u001b[0m\u001b[1;33m:\u001b[0m\u001b[1;33m\u001b[0m\u001b[0m\n\u001b[0;32m    902\u001b[0m         \u001b[0mproto_data\u001b[0m \u001b[1;33m=\u001b[0m \u001b[0mtf_session\u001b[0m\u001b[1;33m.\u001b[0m\u001b[0mTF_GetBuffer\u001b[0m\u001b[1;33m(\u001b[0m\u001b[0mrun_metadata_ptr\u001b[0m\u001b[1;33m)\u001b[0m\u001b[1;33m\u001b[0m\u001b[0m\n",
      "\u001b[1;32m~\\Anaconda3\\lib\\site-packages\\tensorflow\\python\\client\\session.py\u001b[0m in \u001b[0;36m_run\u001b[1;34m(self, handle, fetches, feed_dict, options, run_metadata)\u001b[0m\n\u001b[0;32m   1133\u001b[0m     \u001b[1;32mif\u001b[0m \u001b[0mfinal_fetches\u001b[0m \u001b[1;32mor\u001b[0m \u001b[0mfinal_targets\u001b[0m \u001b[1;32mor\u001b[0m \u001b[1;33m(\u001b[0m\u001b[0mhandle\u001b[0m \u001b[1;32mand\u001b[0m \u001b[0mfeed_dict_tensor\u001b[0m\u001b[1;33m)\u001b[0m\u001b[1;33m:\u001b[0m\u001b[1;33m\u001b[0m\u001b[0m\n\u001b[0;32m   1134\u001b[0m       results = self._do_run(handle, final_targets, final_fetches,\n\u001b[1;32m-> 1135\u001b[1;33m                              feed_dict_tensor, options, run_metadata)\n\u001b[0m\u001b[0;32m   1136\u001b[0m     \u001b[1;32melse\u001b[0m\u001b[1;33m:\u001b[0m\u001b[1;33m\u001b[0m\u001b[0m\n\u001b[0;32m   1137\u001b[0m       \u001b[0mresults\u001b[0m \u001b[1;33m=\u001b[0m \u001b[1;33m[\u001b[0m\u001b[1;33m]\u001b[0m\u001b[1;33m\u001b[0m\u001b[0m\n",
      "\u001b[1;32m~\\Anaconda3\\lib\\site-packages\\tensorflow\\python\\client\\session.py\u001b[0m in \u001b[0;36m_do_run\u001b[1;34m(self, handle, target_list, fetch_list, feed_dict, options, run_metadata)\u001b[0m\n\u001b[0;32m   1314\u001b[0m     \u001b[1;32mif\u001b[0m \u001b[0mhandle\u001b[0m \u001b[1;32mis\u001b[0m \u001b[1;32mNone\u001b[0m\u001b[1;33m:\u001b[0m\u001b[1;33m\u001b[0m\u001b[0m\n\u001b[0;32m   1315\u001b[0m       return self._do_call(_run_fn, feeds, fetches, targets, options,\n\u001b[1;32m-> 1316\u001b[1;33m                            run_metadata)\n\u001b[0m\u001b[0;32m   1317\u001b[0m     \u001b[1;32melse\u001b[0m\u001b[1;33m:\u001b[0m\u001b[1;33m\u001b[0m\u001b[0m\n\u001b[0;32m   1318\u001b[0m       \u001b[1;32mreturn\u001b[0m \u001b[0mself\u001b[0m\u001b[1;33m.\u001b[0m\u001b[0m_do_call\u001b[0m\u001b[1;33m(\u001b[0m\u001b[0m_prun_fn\u001b[0m\u001b[1;33m,\u001b[0m \u001b[0mhandle\u001b[0m\u001b[1;33m,\u001b[0m \u001b[0mfeeds\u001b[0m\u001b[1;33m,\u001b[0m \u001b[0mfetches\u001b[0m\u001b[1;33m)\u001b[0m\u001b[1;33m\u001b[0m\u001b[0m\n",
      "\u001b[1;32m~\\Anaconda3\\lib\\site-packages\\tensorflow\\python\\client\\session.py\u001b[0m in \u001b[0;36m_do_call\u001b[1;34m(self, fn, *args)\u001b[0m\n\u001b[0;32m   1320\u001b[0m   \u001b[1;32mdef\u001b[0m \u001b[0m_do_call\u001b[0m\u001b[1;33m(\u001b[0m\u001b[0mself\u001b[0m\u001b[1;33m,\u001b[0m \u001b[0mfn\u001b[0m\u001b[1;33m,\u001b[0m \u001b[1;33m*\u001b[0m\u001b[0margs\u001b[0m\u001b[1;33m)\u001b[0m\u001b[1;33m:\u001b[0m\u001b[1;33m\u001b[0m\u001b[0m\n\u001b[0;32m   1321\u001b[0m     \u001b[1;32mtry\u001b[0m\u001b[1;33m:\u001b[0m\u001b[1;33m\u001b[0m\u001b[0m\n\u001b[1;32m-> 1322\u001b[1;33m       \u001b[1;32mreturn\u001b[0m \u001b[0mfn\u001b[0m\u001b[1;33m(\u001b[0m\u001b[1;33m*\u001b[0m\u001b[0margs\u001b[0m\u001b[1;33m)\u001b[0m\u001b[1;33m\u001b[0m\u001b[0m\n\u001b[0m\u001b[0;32m   1323\u001b[0m     \u001b[1;32mexcept\u001b[0m \u001b[0merrors\u001b[0m\u001b[1;33m.\u001b[0m\u001b[0mOpError\u001b[0m \u001b[1;32mas\u001b[0m \u001b[0me\u001b[0m\u001b[1;33m:\u001b[0m\u001b[1;33m\u001b[0m\u001b[0m\n\u001b[0;32m   1324\u001b[0m       \u001b[0mmessage\u001b[0m \u001b[1;33m=\u001b[0m \u001b[0mcompat\u001b[0m\u001b[1;33m.\u001b[0m\u001b[0mas_text\u001b[0m\u001b[1;33m(\u001b[0m\u001b[0me\u001b[0m\u001b[1;33m.\u001b[0m\u001b[0mmessage\u001b[0m\u001b[1;33m)\u001b[0m\u001b[1;33m\u001b[0m\u001b[0m\n",
      "\u001b[1;32m~\\Anaconda3\\lib\\site-packages\\tensorflow\\python\\client\\session.py\u001b[0m in \u001b[0;36m_run_fn\u001b[1;34m(feed_dict, fetch_list, target_list, options, run_metadata)\u001b[0m\n\u001b[0;32m   1305\u001b[0m       \u001b[0mself\u001b[0m\u001b[1;33m.\u001b[0m\u001b[0m_extend_graph\u001b[0m\u001b[1;33m(\u001b[0m\u001b[1;33m)\u001b[0m\u001b[1;33m\u001b[0m\u001b[0m\n\u001b[0;32m   1306\u001b[0m       return self._call_tf_sessionrun(\n\u001b[1;32m-> 1307\u001b[1;33m           options, feed_dict, fetch_list, target_list, run_metadata)\n\u001b[0m\u001b[0;32m   1308\u001b[0m \u001b[1;33m\u001b[0m\u001b[0m\n\u001b[0;32m   1309\u001b[0m     \u001b[1;32mdef\u001b[0m \u001b[0m_prun_fn\u001b[0m\u001b[1;33m(\u001b[0m\u001b[0mhandle\u001b[0m\u001b[1;33m,\u001b[0m \u001b[0mfeed_dict\u001b[0m\u001b[1;33m,\u001b[0m \u001b[0mfetch_list\u001b[0m\u001b[1;33m)\u001b[0m\u001b[1;33m:\u001b[0m\u001b[1;33m\u001b[0m\u001b[0m\n",
      "\u001b[1;32m~\\Anaconda3\\lib\\site-packages\\tensorflow\\python\\client\\session.py\u001b[0m in \u001b[0;36m_call_tf_sessionrun\u001b[1;34m(self, options, feed_dict, fetch_list, target_list, run_metadata)\u001b[0m\n\u001b[0;32m   1407\u001b[0m       return tf_session.TF_SessionRun_wrapper(\n\u001b[0;32m   1408\u001b[0m           \u001b[0mself\u001b[0m\u001b[1;33m.\u001b[0m\u001b[0m_session\u001b[0m\u001b[1;33m,\u001b[0m \u001b[0moptions\u001b[0m\u001b[1;33m,\u001b[0m \u001b[0mfeed_dict\u001b[0m\u001b[1;33m,\u001b[0m \u001b[0mfetch_list\u001b[0m\u001b[1;33m,\u001b[0m \u001b[0mtarget_list\u001b[0m\u001b[1;33m,\u001b[0m\u001b[1;33m\u001b[0m\u001b[0m\n\u001b[1;32m-> 1409\u001b[1;33m           run_metadata)\n\u001b[0m\u001b[0;32m   1410\u001b[0m     \u001b[1;32melse\u001b[0m\u001b[1;33m:\u001b[0m\u001b[1;33m\u001b[0m\u001b[0m\n\u001b[0;32m   1411\u001b[0m       \u001b[1;32mwith\u001b[0m \u001b[0merrors\u001b[0m\u001b[1;33m.\u001b[0m\u001b[0mraise_exception_on_not_ok_status\u001b[0m\u001b[1;33m(\u001b[0m\u001b[1;33m)\u001b[0m \u001b[1;32mas\u001b[0m \u001b[0mstatus\u001b[0m\u001b[1;33m:\u001b[0m\u001b[1;33m\u001b[0m\u001b[0m\n",
      "\u001b[1;31mKeyboardInterrupt\u001b[0m: "
     ]
    }
   ],
   "source": [
    "with tf.Session() as sess:\n",
    "    sess.run(init)\n",
    "    for iteration in range(n_iterations):\n",
    "        training_op.run(feed_dict={X: X_train}) # no labels (unsupervised)\n",
    "        codings_val = codings.eval(feed_dict={X: X_test})"
   ]
  },
  {
   "cell_type": "code",
   "execution_count": 120,
   "metadata": {},
   "outputs": [],
   "source": [
    "#n_inputs \n",
    "n_hidden1 = 300\n",
    "n_hidden2 = 150 # codings\n",
    "n_hidden3 = n_hidden1\n",
    "#n_outputs = n_inputs\n",
    "learning_rate = 0.01\n",
    "l1_reg = 0.001"
   ]
  },
  {
   "cell_type": "code",
   "execution_count": 121,
   "metadata": {},
   "outputs": [],
   "source": [
    "X = tf.placeholder(tf.float32, shape=[None, n_inputs])\n",
    "with tf.contrib.framework.arg_scope(\n",
    "        [fully_connected],\n",
    "        activation_fn=tf.nn.elu,\n",
    "        weights_initializer=tf.contrib.layers.variance_scaling_initializer(),\n",
    "        weights_regularizer=tf.contrib.layers.l1_regularizer(l1_reg)):\n",
    "    hidden1 = fully_connected(X, n_hidden1)\n",
    "    hidden2 = fully_connected(hidden1, n_hidden2) # codings\n",
    "    hidden3 = fully_connected(hidden2, n_hidden3)\n",
    "    outputs = fully_connected(hidden3, n_outputs, activation_fn=None)\n",
    "    \n",
    "reconstruction_loss = tf.reduce_mean(tf.square(outputs - X)) # MSE\n",
    "\n",
    "reg_losses = tf.get_collection(tf.GraphKeys.REGULARIZATION_LOSSES)\n",
    "loss = tf.add_n([reconstruction_loss] + reg_losses)\n",
    "\n",
    "optimizer = tf.train.AdamOptimizer(learning_rate)\n",
    "training_op = optimizer.minimize(loss)\n"
   ]
  },
  {
   "cell_type": "code",
   "execution_count": 122,
   "metadata": {},
   "outputs": [],
   "source": [
    "init = tf.global_variables_initializer()"
   ]
  },
  {
   "cell_type": "code",
   "execution_count": 158,
   "metadata": {},
   "outputs": [],
   "source": [
    "n_epochs = 5\n",
    "batch_size = 108"
   ]
  },
  {
   "cell_type": "code",
   "execution_count": 162,
   "metadata": {},
   "outputs": [],
   "source": [
    "with tf.Session() as sess:\n",
    "    init.run()\n",
    "    for epoch in range(n_epochs):\n",
    "        data_sample = data_mol\n",
    "        n_batches = data_sample.shape[0]//batch_size\n",
    "        for iteration in range(n_batches):\n",
    "            X_batch = data_sample.sample(n=batch_size, replace=True)\n",
    "            remove = list(X_batch.index)\n",
    "            data_sample = data_sample.drop(remove, axis = 0)\n",
    "            sess.run(training_op, feed_dict={X: X_batch})"
   ]
  },
  {
   "cell_type": "code",
   "execution_count": 163,
   "metadata": {},
   "outputs": [
    {
     "ename": "ValueError",
     "evalue": "Cannot execute operation using `run()`: No default session is registered. Use `with sess.as_default():` or pass an explicit session to `run(session=sess)`",
     "output_type": "error",
     "traceback": [
      "\u001b[1;31m---------------------------------------------------------------------------\u001b[0m",
      "\u001b[1;31mValueError\u001b[0m                                Traceback (most recent call last)",
      "\u001b[1;32m<ipython-input-163-e49a88bb6252>\u001b[0m in \u001b[0;36m<module>\u001b[1;34m()\u001b[0m\n\u001b[1;32m----> 1\u001b[1;33m \u001b[0minit\u001b[0m\u001b[1;33m.\u001b[0m\u001b[0mrun\u001b[0m\u001b[1;33m(\u001b[0m\u001b[1;33m)\u001b[0m\u001b[1;33m\u001b[0m\u001b[0m\n\u001b[0m",
      "\u001b[1;32m~\\Anaconda3\\lib\\site-packages\\tensorflow\\python\\framework\\ops.py\u001b[0m in \u001b[0;36mrun\u001b[1;34m(self, feed_dict, session)\u001b[0m\n\u001b[0;32m   2375\u001b[0m         \u001b[0mnone\u001b[0m\u001b[1;33m,\u001b[0m \u001b[0mthe\u001b[0m \u001b[0mdefault\u001b[0m \u001b[0msession\u001b[0m \u001b[0mwill\u001b[0m \u001b[0mbe\u001b[0m \u001b[0mused\u001b[0m\u001b[1;33m.\u001b[0m\u001b[1;33m\u001b[0m\u001b[0m\n\u001b[0;32m   2376\u001b[0m     \"\"\"\n\u001b[1;32m-> 2377\u001b[1;33m     \u001b[0m_run_using_default_session\u001b[0m\u001b[1;33m(\u001b[0m\u001b[0mself\u001b[0m\u001b[1;33m,\u001b[0m \u001b[0mfeed_dict\u001b[0m\u001b[1;33m,\u001b[0m \u001b[0mself\u001b[0m\u001b[1;33m.\u001b[0m\u001b[0mgraph\u001b[0m\u001b[1;33m,\u001b[0m \u001b[0msession\u001b[0m\u001b[1;33m)\u001b[0m\u001b[1;33m\u001b[0m\u001b[0m\n\u001b[0m\u001b[0;32m   2378\u001b[0m \u001b[1;33m\u001b[0m\u001b[0m\n\u001b[0;32m   2379\u001b[0m \u001b[0m_gradient_registry\u001b[0m \u001b[1;33m=\u001b[0m \u001b[0mregistry\u001b[0m\u001b[1;33m.\u001b[0m\u001b[0mRegistry\u001b[0m\u001b[1;33m(\u001b[0m\u001b[1;34m\"gradient\"\u001b[0m\u001b[1;33m)\u001b[0m\u001b[1;33m\u001b[0m\u001b[0m\n",
      "\u001b[1;32m~\\Anaconda3\\lib\\site-packages\\tensorflow\\python\\framework\\ops.py\u001b[0m in \u001b[0;36m_run_using_default_session\u001b[1;34m(operation, feed_dict, graph, session)\u001b[0m\n\u001b[0;32m   5199\u001b[0m     \u001b[0msession\u001b[0m \u001b[1;33m=\u001b[0m \u001b[0mget_default_session\u001b[0m\u001b[1;33m(\u001b[0m\u001b[1;33m)\u001b[0m\u001b[1;33m\u001b[0m\u001b[0m\n\u001b[0;32m   5200\u001b[0m     \u001b[1;32mif\u001b[0m \u001b[0msession\u001b[0m \u001b[1;32mis\u001b[0m \u001b[1;32mNone\u001b[0m\u001b[1;33m:\u001b[0m\u001b[1;33m\u001b[0m\u001b[0m\n\u001b[1;32m-> 5201\u001b[1;33m       raise ValueError(\"Cannot execute operation using `run()`: No default \"\n\u001b[0m\u001b[0;32m   5202\u001b[0m                        \u001b[1;34m\"session is registered. Use `with \"\u001b[0m\u001b[1;33m\u001b[0m\u001b[0m\n\u001b[0;32m   5203\u001b[0m                        \u001b[1;34m\"sess.as_default():` or pass an explicit session to \"\u001b[0m\u001b[1;33m\u001b[0m\u001b[0m\n",
      "\u001b[1;31mValueError\u001b[0m: Cannot execute operation using `run()`: No default session is registered. Use `with sess.as_default():` or pass an explicit session to `run(session=sess)`"
     ]
    }
   ],
   "source": [
    "init.run()"
   ]
  },
  {
   "cell_type": "code",
   "execution_count": 134,
   "metadata": {},
   "outputs": [
    {
     "data": {
      "text/plain": [
       "540"
      ]
     },
     "execution_count": 134,
     "metadata": {},
     "output_type": "execute_result"
    }
   ],
   "source": [
    "data_mol.shape[0]"
   ]
  },
  {
   "cell_type": "code",
   "execution_count": 160,
   "metadata": {},
   "outputs": [
    {
     "ename": "RuntimeError",
     "evalue": "Attempted to use a closed Session.",
     "output_type": "error",
     "traceback": [
      "\u001b[1;31m---------------------------------------------------------------------------\u001b[0m",
      "\u001b[1;31mRuntimeError\u001b[0m                              Traceback (most recent call last)",
      "\u001b[1;32m<ipython-input-160-40def941325b>\u001b[0m in \u001b[0;36m<module>\u001b[1;34m()\u001b[0m\n\u001b[1;32m----> 1\u001b[1;33m \u001b[0msess\u001b[0m\u001b[1;33m.\u001b[0m\u001b[0mrun\u001b[0m\u001b[1;33m(\u001b[0m\u001b[0mtraining_op\u001b[0m\u001b[1;33m)\u001b[0m\u001b[1;33m\u001b[0m\u001b[0m\n\u001b[0m",
      "\u001b[1;32m~\\Anaconda3\\lib\\site-packages\\tensorflow\\python\\client\\session.py\u001b[0m in \u001b[0;36mrun\u001b[1;34m(self, fetches, feed_dict, options, run_metadata)\u001b[0m\n\u001b[0;32m    898\u001b[0m     \u001b[1;32mtry\u001b[0m\u001b[1;33m:\u001b[0m\u001b[1;33m\u001b[0m\u001b[0m\n\u001b[0;32m    899\u001b[0m       result = self._run(None, fetches, feed_dict, options_ptr,\n\u001b[1;32m--> 900\u001b[1;33m                          run_metadata_ptr)\n\u001b[0m\u001b[0;32m    901\u001b[0m       \u001b[1;32mif\u001b[0m \u001b[0mrun_metadata\u001b[0m\u001b[1;33m:\u001b[0m\u001b[1;33m\u001b[0m\u001b[0m\n\u001b[0;32m    902\u001b[0m         \u001b[0mproto_data\u001b[0m \u001b[1;33m=\u001b[0m \u001b[0mtf_session\u001b[0m\u001b[1;33m.\u001b[0m\u001b[0mTF_GetBuffer\u001b[0m\u001b[1;33m(\u001b[0m\u001b[0mrun_metadata_ptr\u001b[0m\u001b[1;33m)\u001b[0m\u001b[1;33m\u001b[0m\u001b[0m\n",
      "\u001b[1;32m~\\Anaconda3\\lib\\site-packages\\tensorflow\\python\\client\\session.py\u001b[0m in \u001b[0;36m_run\u001b[1;34m(self, handle, fetches, feed_dict, options, run_metadata)\u001b[0m\n\u001b[0;32m   1056\u001b[0m     \u001b[1;31m# Check session.\u001b[0m\u001b[1;33m\u001b[0m\u001b[1;33m\u001b[0m\u001b[0m\n\u001b[0;32m   1057\u001b[0m     \u001b[1;32mif\u001b[0m \u001b[0mself\u001b[0m\u001b[1;33m.\u001b[0m\u001b[0m_closed\u001b[0m\u001b[1;33m:\u001b[0m\u001b[1;33m\u001b[0m\u001b[0m\n\u001b[1;32m-> 1058\u001b[1;33m       \u001b[1;32mraise\u001b[0m \u001b[0mRuntimeError\u001b[0m\u001b[1;33m(\u001b[0m\u001b[1;34m'Attempted to use a closed Session.'\u001b[0m\u001b[1;33m)\u001b[0m\u001b[1;33m\u001b[0m\u001b[0m\n\u001b[0m\u001b[0;32m   1059\u001b[0m     \u001b[1;32mif\u001b[0m \u001b[0mself\u001b[0m\u001b[1;33m.\u001b[0m\u001b[0mgraph\u001b[0m\u001b[1;33m.\u001b[0m\u001b[0mversion\u001b[0m \u001b[1;33m==\u001b[0m \u001b[1;36m0\u001b[0m\u001b[1;33m:\u001b[0m\u001b[1;33m\u001b[0m\u001b[0m\n\u001b[0;32m   1060\u001b[0m       raise RuntimeError('The Session graph is empty.  Add operations to the '\n",
      "\u001b[1;31mRuntimeError\u001b[0m: Attempted to use a closed Session."
     ]
    }
   ],
   "source": [
    "sess.run(training_op)"
   ]
  }
 ],
 "metadata": {
  "kernelspec": {
   "display_name": "Python 3",
   "language": "python",
   "name": "python3"
  },
  "language_info": {
   "codemirror_mode": {
    "name": "ipython",
    "version": 3
   },
   "file_extension": ".py",
   "mimetype": "text/x-python",
   "name": "python",
   "nbconvert_exporter": "python",
   "pygments_lexer": "ipython3",
   "version": "3.6.4"
  }
 },
 "nbformat": 4,
 "nbformat_minor": 2
}
